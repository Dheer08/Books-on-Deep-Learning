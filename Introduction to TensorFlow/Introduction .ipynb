{
 "cells": [
  {
   "cell_type": "markdown",
   "metadata": {},
   "source": [
    "# Introduction to TensorFlow"
   ]
  },
  {
   "cell_type": "markdown",
   "metadata": {},
   "source": [
    "<b>TensorFlow<b><i> is a open source library  developed in C++ for numerical computation particularly well suited and fine-tuned for large scale Machine Learning</b></i>"
   ]
  },
  {
   "cell_type": "markdown",
   "metadata": {},
   "source": [
    "## Principle\n",
    "   <b><i>1.Python creates a graph of computational operations to be performed</i></b><br>\n",
    "   <b><i>2.TensorFlow takes this graph and process it efficiently using optimizes C++ code </i></b>"
   ]
  },
  {
   "cell_type": "markdown",
   "metadata": {},
   "source": [
    "<h3><center>A single Computational graph</center></h3>\n",
    "<img src = 'images/graph.png' width = 500px>"
   ]
  },
  {
   "cell_type": "markdown",
   "metadata": {},
   "source": [
    "## Distrubuted Computing\n",
    "\n",
    "<b><i>It is possible to break up the graphs into several chunks and then run it on different servers or GPUs.TensorFlow Supports Distrubuted Computing Which makes computation faster</b></i>"
   ]
  },
  {
   "cell_type": "markdown",
   "metadata": {},
   "source": [
    "<h3><center>Parllel Computing</center></h3>\n",
    "<img src = 'images/distributed.png' width = 400px>"
   ]
  },
  {
   "cell_type": "markdown",
   "metadata": {},
   "source": [
    "<b><i> Importing warnings module to ignore Future warnings or software update warnings and importing  tensorflow as an alias tf</b></i>"
   ]
  },
  {
   "cell_type": "code",
   "execution_count": 24,
   "metadata": {},
   "outputs": [],
   "source": [
    "import warnings\n",
    "warnings.simplefilter(action='ignore',category=FutureWarning)\n",
    "import tensorflow as tf"
   ]
  },
  {
   "cell_type": "markdown",
   "metadata": {},
   "source": [
    "***This code doesnot compute but create a computational graph***<br>\n",
    "***The Variables are not initialized***"
   ]
  },
  {
   "cell_type": "code",
   "execution_count": 25,
   "metadata": {},
   "outputs": [],
   "source": [
    "x = tf.Variable(3,name='x')\n",
    "y = tf.Variable(4,name='y')\n",
    "f = x*x*y + y + 2"
   ]
  },
  {
   "cell_type": "markdown",
   "metadata": {},
   "source": [
    "***To run a computational graph you have to create a session***<br>\n",
    "***This code creates a session,initilizes and evaluates the expression***"
   ]
  },
  {
   "cell_type": "code",
   "execution_count": 26,
   "metadata": {},
   "outputs": [
    {
     "name": "stdout",
     "output_type": "stream",
     "text": [
      "42\n"
     ]
    }
   ],
   "source": [
    "sess = tf.Session()\n",
    "sess.run(x.initializer)\n",
    "sess.run(y.initializer)\n",
    "result = sess.run(f)\n",
    "sess.close()\n",
    "print(result)"
   ]
  },
  {
   "cell_type": "markdown",
   "metadata": {},
   "source": [
    "***Another way of running the compuational graph using 'with' keyword***<br>\n",
    "***The Session closes automatically***"
   ]
  },
  {
   "cell_type": "code",
   "execution_count": 27,
   "metadata": {},
   "outputs": [
    {
     "name": "stdout",
     "output_type": "stream",
     "text": [
      "42\n"
     ]
    }
   ],
   "source": [
    "with tf.Session() as sess:     # Inside block the session is set to Default Session\n",
    "    x.initializer.run()        # = tf.get_default_session().run(x.initializer)\n",
    "    y.initializer.run()        \n",
    "    result = f.eval()         # = tf.get_default_session().run(f) .\n",
    "print(result)"
   ]
  },
  {
   "cell_type": "markdown",
   "metadata": {},
   "source": [
    "***Instead of initilizing the Variables explicitly one can initilaize all of them at once using this inilitalizer***\n"
   ]
  },
  {
   "cell_type": "code",
   "execution_count": 28,
   "metadata": {},
   "outputs": [
    {
     "name": "stdout",
     "output_type": "stream",
     "text": [
      "42\n"
     ]
    }
   ],
   "source": [
    "init = tf.global_variables_initializer()  #Creates a node in the graph\n",
    "\n",
    "with tf.Session() as sess:\n",
    "    init.run()                 #Acutal initializiation of variables\n",
    "    result = f.eval()\n",
    "print(result)"
   ]
  },
  {
   "cell_type": "markdown",
   "metadata": {},
   "source": [
    "***Creating  a interactive session<br>\n",
    "The only Difference between interactive and Regular is, interactive session sets itslef it to Default session \n",
    "where as Regular Session does not***"
   ]
  },
  {
   "cell_type": "code",
   "execution_count": 29,
   "metadata": {},
   "outputs": [
    {
     "name": "stderr",
     "output_type": "stream",
     "text": [
      "/home/rakshith/.local/lib/python3.6/site-packages/tensorflow/python/client/session.py:1735: UserWarning: An interactive session is already active. This can cause out-of-memory errors in some cases. You must explicitly call `InteractiveSession.close()` to release resources held by the other session(s).\n",
      "  warnings.warn('An interactive session is already active. This can '\n"
     ]
    },
    {
     "name": "stdout",
     "output_type": "stream",
     "text": [
      "42\n"
     ]
    }
   ],
   "source": [
    "\n",
    "\n",
    "sess = tf.InteractiveSession()\n",
    "\n",
    "init.run()\n",
    "result = f.eval()\n",
    "print(result)\n",
    "sess.close() #But you need to close the session manually"
   ]
  },
  {
   "cell_type": "markdown",
   "metadata": {},
   "source": [
    "### TensorFlow splits into two parts :\n",
    "#### 1.construction phase  - Building the computational graph\n",
    "#### 2.Execution phase -   Evaluation\n",
    "       "
   ]
  },
  {
   "cell_type": "code",
   "execution_count": 30,
   "metadata": {},
   "outputs": [
    {
     "name": "stdout",
     "output_type": "stream",
     "text": [
      "True\n"
     ]
    }
   ],
   "source": [
    "#Any Node you Create is default added to Default graph\n",
    "x1 = tf.Variable(1)\n",
    "print(x1.graph is tf.get_default_graph())"
   ]
  },
  {
   "cell_type": "code",
   "execution_count": 31,
   "metadata": {},
   "outputs": [
    {
     "name": "stdout",
     "output_type": "stream",
     "text": [
      "False\n",
      "True\n"
     ]
    }
   ],
   "source": [
    "# To store the Variables in desired Graph\n",
    "\n",
    "graph = tf.Graph()   # Creating a graph \n",
    "with graph.as_default():     # Setting as default within the block\n",
    "    x2 = tf.Variable(1)\n",
    "print(x2.graph is tf.get_default_graph)\n",
    "print(x2.graph is graph)"
   ]
  },
  {
   "cell_type": "markdown",
   "metadata": {},
   "source": [
    "<b><i>*when you use the jupyter you may end up having duplicate nodes in default grpah to avoid that you can reset the graph using  tf.reset_default_graph()</b><i/>"
   ]
  },
  {
   "cell_type": "markdown",
   "metadata": {},
   "source": [
    "***TensorFlow automatically detects the dependent and independent variables and execute them accrodingly.But it will not reuse the result so when z needs it calcualtes again***"
   ]
  },
  {
   "cell_type": "code",
   "execution_count": 34,
   "metadata": {},
   "outputs": [
    {
     "name": "stdout",
     "output_type": "stream",
     "text": [
      "10\n",
      "15\n"
     ]
    }
   ],
   "source": [
    "w = tf.constant(3)\n",
    "x = w+2\n",
    "y = x+5\n",
    "z = x*3\n",
    "with tf.Session() as sess:\n",
    "    print(y.eval())     # It automatically executes x as y node is dependent on x\n",
    "    print(z.eval())"
   ]
  },
  {
   "cell_type": "markdown",
   "metadata": {},
   "source": [
    "***All Node Values are dropped between graphs runs,except variable values which are manintained by session.Also the variable life starts with initiaziation and ends with the session.To Evaluate w and z only once in the previous cell you have to ask tensorflow to evaluate both y and z in one graph***"
   ]
  },
  {
   "cell_type": "code",
   "execution_count": 35,
   "metadata": {},
   "outputs": [
    {
     "name": "stdout",
     "output_type": "stream",
     "text": [
      "10\n",
      "15\n"
     ]
    }
   ],
   "source": [
    "with tf.Session() as sess:\n",
    "    y_val,z_val = sess.run([y,z])\n",
    "    print(y_val)\n",
    "    print(z_val)"
   ]
  }
 ],
 "metadata": {
  "kernelspec": {
   "display_name": "Python 3",
   "language": "python",
   "name": "python3"
  },
  "language_info": {
   "codemirror_mode": {
    "name": "ipython",
    "version": 3
   },
   "file_extension": ".py",
   "mimetype": "text/x-python",
   "name": "python",
   "nbconvert_exporter": "python",
   "pygments_lexer": "ipython3",
   "version": "3.6.8"
  }
 },
 "nbformat": 4,
 "nbformat_minor": 2
}
